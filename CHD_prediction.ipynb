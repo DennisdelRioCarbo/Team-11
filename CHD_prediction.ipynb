{
 "cells": [
  {
   "cell_type": "code",
   "execution_count": null,
   "id": "a6724419",
   "metadata": {},
   "outputs": [],
   "source": [
    "#Import dependencies\n",
    "import warnings\n",
    "warnings.filterwarnings('ignore')\n",
    "import numpy as np\n",
    "import pandas as pd\n",
    "from pathlib import Path\n",
    "from collections import Counter\n",
    "from sklearn.preprocessing import StandardScaler\n",
    "from sklearn.metrics import balanced_accuracy_score\n",
    "from sklearn.metrics import confusion_matrix\n",
    "from imblearn.metrics import classification_report_imbalanced\n",
    "import os\n",
    "from imblearn.ensemble import EasyEnsembleClassifier\n",
    "from imblearn.over_sampling import RandomOverSampler\n",
    "import psycopg2 as pg\n",
    "import sqlalchemy as sa"
   ]
  },
  {
   "cell_type": "markdown",
   "id": "2b4fbcd7",
   "metadata": {},
   "source": [
    "# Connect to database"
   ]
  },
  {
   "cell_type": "code",
   "execution_count": null,
   "id": "6fdfc3b1",
   "metadata": {},
   "outputs": [],
   "source": [
    "#Connect to database to load data"
   ]
  },
  {
   "cell_type": "markdown",
   "id": "5c9c2e78",
   "metadata": {},
   "source": [
    "# Load data and perform data cleaning"
   ]
  },
  {
   "cell_type": "code",
   "execution_count": null,
   "id": "904b7273",
   "metadata": {},
   "outputs": [],
   "source": [
    "#Load data"
   ]
  },
  {
   "cell_type": "code",
   "execution_count": null,
   "id": "11bb0194",
   "metadata": {},
   "outputs": [],
   "source": [
    "#Display data"
   ]
  },
  {
   "cell_type": "code",
   "execution_count": null,
   "id": "f9edacf4",
   "metadata": {},
   "outputs": [],
   "source": [
    "#Check for null columns"
   ]
  },
  {
   "cell_type": "code",
   "execution_count": null,
   "id": "b6d7742e",
   "metadata": {},
   "outputs": [],
   "source": [
    "#Drop null columns"
   ]
  },
  {
   "cell_type": "code",
   "execution_count": null,
   "id": "e2c23289",
   "metadata": {},
   "outputs": [],
   "source": [
    "#Drop unncessary columns"
   ]
  },
  {
   "cell_type": "code",
   "execution_count": null,
   "id": "887a2377",
   "metadata": {},
   "outputs": [],
   "source": [
    "#Diplay data and peform basic exploration"
   ]
  },
  {
   "cell_type": "markdown",
   "id": "efc5c6c2",
   "metadata": {},
   "source": [
    "# Split the data into training and testing"
   ]
  },
  {
   "cell_type": "code",
   "execution_count": null,
   "id": "29d43c1b",
   "metadata": {},
   "outputs": [],
   "source": [
    "#Create features\n"
   ]
  },
  {
   "cell_type": "code",
   "execution_count": null,
   "id": "1a3227e6",
   "metadata": {},
   "outputs": [],
   "source": [
    "#Create target"
   ]
  },
  {
   "cell_type": "code",
   "execution_count": null,
   "id": "4360dc16",
   "metadata": {},
   "outputs": [],
   "source": [
    "#Check balance of target values"
   ]
  },
  {
   "cell_type": "code",
   "execution_count": null,
   "id": "3fbd4f46",
   "metadata": {},
   "outputs": [],
   "source": [
    "#Split data into Train and Test Sets"
   ]
  },
  {
   "cell_type": "markdown",
   "id": "871fdd02",
   "metadata": {},
   "source": [
    "# Scale the  data"
   ]
  },
  {
   "cell_type": "code",
   "execution_count": null,
   "id": "4768e3a0",
   "metadata": {},
   "outputs": [],
   "source": [
    "#Create a StandardScaler instance"
   ]
  },
  {
   "cell_type": "code",
   "execution_count": null,
   "id": "a733c1d7",
   "metadata": {},
   "outputs": [],
   "source": [
    "#Fit Standard Scaler"
   ]
  },
  {
   "cell_type": "code",
   "execution_count": null,
   "id": "0c26afc2",
   "metadata": {},
   "outputs": [],
   "source": [
    "#Scaling data"
   ]
  },
  {
   "cell_type": "markdown",
   "id": "9bdf481b",
   "metadata": {},
   "source": [
    "# Resample data (Oversampling/Undersampling/Combination) Perform Logistic Regression"
   ]
  },
  {
   "cell_type": "code",
   "execution_count": null,
   "id": "cdb09aa7",
   "metadata": {},
   "outputs": [],
   "source": [
    "#Resample the training data "
   ]
  },
  {
   "cell_type": "code",
   "execution_count": null,
   "id": "1e8b88aa",
   "metadata": {},
   "outputs": [],
   "source": [
    "#Train the model"
   ]
  },
  {
   "cell_type": "code",
   "execution_count": null,
   "id": "e42679ee",
   "metadata": {},
   "outputs": [],
   "source": [
    "#Calculate de balanced accuracy score"
   ]
  },
  {
   "cell_type": "code",
   "execution_count": null,
   "id": "7d23de8f",
   "metadata": {},
   "outputs": [],
   "source": [
    "#Display the confusion matrix"
   ]
  },
  {
   "cell_type": "code",
   "execution_count": null,
   "id": "f4c94a85",
   "metadata": {},
   "outputs": [],
   "source": [
    "#Print the imbalanced classification report"
   ]
  },
  {
   "cell_type": "code",
   "execution_count": null,
   "id": "f39aa7eb",
   "metadata": {},
   "outputs": [],
   "source": [
    "#List the features sorted in descending order by feature importance"
   ]
  },
  {
   "cell_type": "markdown",
   "id": "1cfd7d51",
   "metadata": {},
   "source": [
    "#  As an alternative to the previous step use Easy Ensemble Classifier"
   ]
  },
  {
   "cell_type": "code",
   "execution_count": null,
   "id": "2f94f13a",
   "metadata": {},
   "outputs": [],
   "source": [
    "#Train the EasyEnsembleClassifier"
   ]
  },
  {
   "cell_type": "code",
   "execution_count": null,
   "id": "89c98ec6",
   "metadata": {},
   "outputs": [],
   "source": [
    "#Calculate the balanced accuracy score"
   ]
  },
  {
   "cell_type": "code",
   "execution_count": null,
   "id": "3770f3d5",
   "metadata": {},
   "outputs": [],
   "source": [
    "#Display the confusion matrix"
   ]
  },
  {
   "cell_type": "code",
   "execution_count": null,
   "id": "9aa60ada",
   "metadata": {},
   "outputs": [],
   "source": [
    "#Print the imbalanced classification report"
   ]
  },
  {
   "cell_type": "code",
   "execution_count": null,
   "id": "7acefc46",
   "metadata": {},
   "outputs": [],
   "source": [
    "#List the features sorted in descending order by feature importance"
   ]
  }
 ],
 "metadata": {
  "kernelspec": {
   "display_name": "mlenv",
   "language": "python",
   "name": "mlenv"
  },
  "language_info": {
   "codemirror_mode": {
    "name": "ipython",
    "version": 3
   },
   "file_extension": ".py",
   "mimetype": "text/x-python",
   "name": "python",
   "nbconvert_exporter": "python",
   "pygments_lexer": "ipython3",
   "version": "3.7.13"
  }
 },
 "nbformat": 4,
 "nbformat_minor": 5
}
